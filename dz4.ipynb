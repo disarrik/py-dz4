{
 "cells": [
  {
   "cell_type": "code",
   "execution_count": 1,
   "id": "f23f2152-2dd1-4999-8482-134daf321a76",
   "metadata": {},
   "outputs": [],
   "source": [
    "import re"
   ]
  },
  {
   "cell_type": "code",
   "execution_count": 14,
   "id": "2b78b9f3",
   "metadata": {},
   "outputs": [],
   "source": [
    "pattern = re.compile(r'([АВЕКМНОРСТУХ]\\d{3}[АВЕКМНОРСТУХ]{2})(\\d{2,3})')"
   ]
  },
  {
   "cell_type": "code",
   "execution_count": 16,
   "id": "ef823df6",
   "metadata": {},
   "outputs": [
    {
     "name": "stdout",
     "output_type": "stream",
     "text": [
      "Номер А222ВС валиден. Регион: А222ВС\n"
     ]
    }
   ],
   "source": [
    "number = \"А222ВС96\"\n",
    "result = pattern.match(number)\n",
    "if (not result):\n",
    "    print(\"Номер не валиден.\")\n",
    "else:\n",
    "    print(\"Номер \" + result.group(1) + \" валиден. Регион: \" + result.group(1))"
   ]
  },
  {
   "cell_type": "code",
   "execution_count": null,
   "id": "cc10acff",
   "metadata": {},
   "outputs": [],
   "source": []
  }
 ],
 "metadata": {
  "kernelspec": {
   "display_name": "Python 3 (ipykernel)",
   "language": "python",
   "name": "python3"
  },
  "language_info": {
   "codemirror_mode": {
    "name": "ipython",
    "version": 3
   },
   "file_extension": ".py",
   "mimetype": "text/x-python",
   "name": "python",
   "nbconvert_exporter": "python",
   "pygments_lexer": "ipython3",
   "version": "3.12.6"
  }
 },
 "nbformat": 4,
 "nbformat_minor": 5
}
